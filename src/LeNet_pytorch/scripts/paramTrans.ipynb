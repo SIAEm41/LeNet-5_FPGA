{
 "cells": [
  {
   "cell_type": "code",
   "execution_count": 3,
   "metadata": {},
   "outputs": [],
   "source": [
    "import torch as t \n",
    "import lenet\n",
    "import numpy as np\n",
    "import lenet\n",
    "import cv2\n",
    "from PIL import Image, ImageFilter\n",
    "import matplotlib.pyplot as plt"
   ]
  },
  {
   "cell_type": "markdown",
   "metadata": {},
   "source": [
    "### 定点化转换函数"
   ]
  },
  {
   "cell_type": "code",
   "execution_count": null,
   "metadata": {},
   "outputs": [],
   "source": [
    "def myTrans(inti):\n",
    "    str = hex(int(inti) & 0xffff)[2:]\n",
    "    lens = len(str)\n",
    "    strnew = \"0\" * (4 - lens) + str        \n",
    "    return strnew\n",
    "def tensorTrans(tensor):\n",
    "    shape = tensor.shape\n",
    "    shapelen = len(shape)\n",
    "    tempTensor = []\n",
    "    if shapelen == 3:\n",
    "        \n",
    "        for i in range(shape[0]):\n",
    "            temp1 = []\n",
    "            for j in range(shape[1]):\n",
    "                temp2 = []\n",
    "                for k in range(shape[2]):\n",
    "                    temp2.append(myTrans(tensor[i,j,k]))\n",
    "                temp1.append(temp2)\n",
    "            tempTensor.append(temp1)\n",
    "            \n",
    "    elif shapelen == 4:\n",
    "        for i in range(shape[0]):\n",
    "            temp1 = []\n",
    "            for j in range(shape[1]):\n",
    "                temp2 = []\n",
    "                for k in range(shape[2]):\n",
    "                    temp3 = []\n",
    "                    for m in range(shape[3]):\n",
    "                        temp3.append(myTrans(tensor[i,j,k,m]))\n",
    "                    temp2.append(temp3)\n",
    "                temp1.append(temp2)\n",
    "            tempTensor.append(temp1)\n",
    "    elif shapelen == 1:\n",
    "        for i in range(shape[0]):\n",
    "            tempTensor.append(myTrans(tensor[i]))\n",
    "    elif shapelen == 2:\n",
    "        for i in range(shape[0]):\n",
    "            temp1 = []\n",
    "            for j in range(shape[1]):\n",
    "                temp1.append(myTrans(tensor[i,j]))\n",
    "            tempTensor.append(temp1)\n",
    "    else:\n",
    "        print(shapelen)\n",
    "    return tempTensor\n",
    "    "
   ]
  },
  {
   "cell_type": "markdown",
   "metadata": {},
   "source": [
    "### 参数定点化"
   ]
  },
  {
   "cell_type": "code",
   "execution_count": null,
   "metadata": {},
   "outputs": [],
   "source": [
    "state_dict = t.load(\"/Users/lizian/Desktop/en/LeNet-5/net.pth\")\n",
    "\n",
    "INT_state_dict = {}\n",
    "for i in state_dict:\n",
    "    INT_state_dict[i] = (state_dict[i] * pow(2, 8)).int()\n",
    "    \n",
    "hex_state_dict = {}\n",
    "for i in INT_state_dict:\n",
    "    hex_state_dict[i] = tensorTrans(INT_state_dict[i])\n",
    "    \n",
    "for i in range(10):\n",
    "    with open(\"/Users/lizian/Desktop/en/LeNet-5/params/\" + str(keys[i]) + \".txt\", \"w\") as f:\n",
    "        shape = np.array(hex_state_dict[keys[i]]).shape\n",
    "        lens = len(shape)\n",
    "        if(lens == 4):\n",
    "            if(shape[0] == 120) :\n",
    "                for num in range(shape[0]):\n",
    "                    for num2 in range(shape[1]):\n",
    "                        for row in range(shape[2]):\n",
    "                            for col in range(shape[3]):\n",
    "                                \n",
    "                                f.write(hex_state_dict[keys[i]][num][num2][row][col] + ' ')\n",
    "                        \n",
    "                        f.write('\\n')\n",
    "\n",
    "            else:\n",
    "                for num in range(shape[0]):\n",
    "                    for num2 in range(shape[1]):\n",
    "                        for row in range(shape[2]):\n",
    "                            for col in range(shape[3]):\n",
    "                                f.write(hex_state_dict[keys[i]][num][num2][row][col] + ' ')\n",
    "                                f.write('\\n')\n",
    "                        \n",
    "        elif(lens == 2):\n",
    "            for num in range(shape[0]):\n",
    "            \n",
    "                if shape[1] == 84:\n",
    "                    for num2 in range(shape[1] + 12):\n",
    "                        if num2 < shape[1]:\n",
    "                            f.write(hex_state_dict[keys[i]][num][num2] + '\\n')\n",
    "                        else:\n",
    "                            f.write('0000' + '\\n')\n",
    "                if shape[1] == 120:\n",
    "                    for num2 in range(shape[1] + 8):\n",
    "                        if num2 < shape[1]:\n",
    "                            f.write(hex_state_dict[keys[i]][num][num2] + '\\n')\n",
    "                        else:\n",
    "                            f.write('0000' + '\\n')\n",
    "\n",
    "\n",
    "        elif(lens == 1):\n",
    "            for num in range(shape[0]):\n",
    "                f.write(hex_state_dict[keys[i]][num] + ' ')\n",
    "                \n",
    "        else:\n",
    "\n",
    "            print(\"error\")\n"
   ]
  },
  {
   "cell_type": "markdown",
   "metadata": {},
   "source": [
    "### 图片预处理"
   ]
  },
  {
   "cell_type": "code",
   "execution_count": 7,
   "metadata": {},
   "outputs": [
    {
     "data": {
      "image/png": "[encoded data removed]",
      "text/plain": [
       "<Figure size 432x288 with 1 Axes>"
      ]
     },
     "metadata": {
      "needs_background": "light"
     },
     "output_type": "display_data"
    }
   ],
   "source": [
    "def imagePrepare(pic_path):\n",
    "    img = cv2.imread(pic_path, 1)\n",
    "    ret,th1 = cv2.threshold(img,127,255,cv2.THRESH_BINARY)\n",
    "    # 把opencv图像转化为PIL图像\n",
    "    im = Image.fromarray(cv2.cvtColor(th1,cv2.COLOR_BGR2RGB))\n",
    "    # 灰度化\n",
    "    im = im.convert('L')\n",
    "    # 为图片重新指定尺寸\n",
    "    im = im.resize((28,28), Image.ANTIALIAS)\n",
    "    plt.imshow(im)\n",
    "    plt.show()\n",
    "    # 图像转换为list\n",
    "    im_list = list(im.getdata())\n",
    "    # 图像灰度反转\n",
    "    result = [(255-x)*1.0/255.0 for x in im_list]\n",
    "    return result\n",
    "path0 = \"/Users/lizian/Desktop/en/LeNet-5/pic/\"\n",
    "pic_path = path0 + '12' + '.png'\n",
    "pic = imagePrepare(pic_path)\n"
   ]
  },
  {
   "cell_type": "markdown",
   "metadata": {},
   "source": [
    "### 图片定点化"
   ]
  },
  {
   "cell_type": "code",
   "execution_count": null,
   "metadata": {},
   "outputs": [],
   "source": [
    "for i in range(20):\n",
    "    pic_path = path0 + str(i) + '.png'\n",
    "    pic = imagePrepare(pic_path)\n",
    "    with open('./params/pic.txt', 'a') as f:\n",
    "        for j in range(784):\n",
    "            f.write(myTrans(int(pic[j]*pow(2,8))) + ',\\n')"
   ]
  }
 ],
 "metadata": {
  "kernelspec": {
   "display_name": "Python 3.9.7 ('base')",
   "language": "python",
   "name": "python3"
  },
  "language_info": {
   "codemirror_mode": {
    "name": "ipython",
    "version": 3
   },
   "file_extension": ".py",
   "mimetype": "text/x-python",
   "name": "python",
   "nbconvert_exporter": "python",
   "pygments_lexer": "ipython3",
   "version": "3.9.7"
  },
  "orig_nbformat": 4,
  "vscode": {
   "interpreter": {
    "hash": "7a939597f086d71e26bca31a68d9a193c44f7e26c410e2330480d1d9af2dd9e7"
   }
  }
 },
 "nbformat": 4,
 "nbformat_minor": 2
}
